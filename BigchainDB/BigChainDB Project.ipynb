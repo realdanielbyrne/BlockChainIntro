{
 "cells": [
  {
   "cell_type": "markdown",
   "metadata": {},
   "source": [
    "### Benjamin Wilke - MSDS 7349 Data and Network Security"
   ]
  },
  {
   "cell_type": "markdown",
   "metadata": {},
   "source": [
    "# Exploring Blockchain with BigchainDB"
   ]
  },
  {
   "cell_type": "markdown",
   "metadata": {},
   "source": [
    "Import the BigChainDB Python driver, set the root URL to one of the nodes in our network, and instantiate BigChainDB."
   ]
  },
  {
   "cell_type": "code",
   "execution_count": 1,
   "metadata": {
    "collapsed": true
   },
   "outputs": [],
   "source": [
    "from bigchaindb_driver import BigchainDB\n",
    "bdb_root_url = 'ec2-34-213-113-185.us-west-2.compute.amazonaws.com:9984'\n",
    "bdb = BigchainDB(bdb_root_url)"
   ]
  },
  {
   "cell_type": "markdown",
   "metadata": {},
   "source": [
    "## Our First Digital Asset"
   ]
  },
  {
   "cell_type": "markdown",
   "metadata": {},
   "source": [
    "This is the digital asset definition. The data in this structure can be freeform (anything you want it to be), but is immutable once added to the blockchain. In this example we will be transacting a bicycle. Let's give it some attributes."
   ]
  },
  {
   "cell_type": "code",
   "execution_count": 2,
   "metadata": {},
   "outputs": [],
   "source": [
    "bicycle = {\n",
    "    'data':{\n",
    "        'bicycle':{\n",
    "            'serial_number': 'gfkdfgsfd9878967',\n",
    "            'manufacturer': 'schwinn',\n",
    "            'color': 'blue',\n",
    "            'style': 'mountain',\n",
    "            'manufacture_date': 'June 1, 2016'\n",
    "        }\n",
    "    }\n",
    "}"
   ]
  },
  {
   "cell_type": "markdown",
   "metadata": {},
   "source": [
    "## Create Identities via Public/Private Keys"
   ]
  },
  {
   "cell_type": "markdown",
   "metadata": {},
   "source": [
    "User identities are represented by public/private key pairs. The private key is used to sign transactions, meanwhile the public key is used to verify that a signed transaction was indeed signed by the one who claims to be the signee. This code creates 2 identities (Alice and Bob) and displays their newly generated public and private keys."
   ]
  },
  {
   "cell_type": "code",
   "execution_count": 3,
   "metadata": {},
   "outputs": [
    {
     "name": "stdout",
     "output_type": "stream",
     "text": [
      "Alice Public Key: B2Rvrz6J2JqpT68AcRPryVpRVzYUubAqasEUwtCDPjX6\n",
      "Alice Private Key: 9NdQQrsPESgL7N1h5KPuZdW3hc2nGxR5Uu5NqbUsnf32\n",
      "----------------------------------------------------------------------\n",
      "Bob Public Key: A1PLkGLZp3Qea3XdzjJ4RDUX8WXhsrfQuCYWGjXFzz1b\n",
      "Bob Private Key: LU4MbqWQgdderEdsVN29HnDDdKw8t7jyr8PmKUzaXdL\n"
     ]
    }
   ],
   "source": [
    "from bigchaindb_driver.crypto import generate_keypair\n",
    "\n",
    "alice, bob = generate_keypair(), generate_keypair()\n",
    "\n",
    "print('Alice Public Key:', alice.public_key)\n",
    "print('Alice Private Key:', alice.private_key)\n",
    "print('----------------------------------------------------------------------')\n",
    "print('Bob Public Key:', bob.public_key)\n",
    "print('Bob Private Key:', bob.private_key)\n"
   ]
  },
  {
   "cell_type": "markdown",
   "metadata": {},
   "source": [
    "## Asset Creation"
   ]
  },
  {
   "cell_type": "markdown",
   "metadata": {},
   "source": [
    "The first transaction will be a CREATE operation to designate that the bike belongs to Alice. Let's create the digital asset (note the operation)."
   ]
  },
  {
   "cell_type": "code",
   "execution_count": 4,
   "metadata": {
    "collapsed": true
   },
   "outputs": [],
   "source": [
    "prepared_creation_tx = bdb.transactions.prepare(\n",
    "    operation='CREATE',\n",
    "    signers=alice.public_key,\n",
    "    asset=bicycle\n",
    ")"
   ]
  },
  {
   "cell_type": "markdown",
   "metadata": {},
   "source": [
    "Let's take a look at what's inside our digital asset. You'll find our bicycle added to the asset as well as Alice's public key in both the 'inputs', 'owners_before', and the 'outputs' section (designating that she is marking herself as the owner)."
   ]
  },
  {
   "cell_type": "code",
   "execution_count": 5,
   "metadata": {},
   "outputs": [
    {
     "data": {
      "text/plain": [
       "{'asset': {'data': {'bicycle': {'color': 'blue',\n",
       "    'manufacture_date': 'June 1, 2016',\n",
       "    'manufacturer': 'schwinn',\n",
       "    'serial_number': 'gfkdfgsfd9878967',\n",
       "    'style': 'mountain'}}},\n",
       " 'id': None,\n",
       " 'inputs': [{'fulfillment': {'public_key': 'B2Rvrz6J2JqpT68AcRPryVpRVzYUubAqasEUwtCDPjX6',\n",
       "    'type': 'ed25519-sha-256'},\n",
       "   'fulfills': None,\n",
       "   'owners_before': ['B2Rvrz6J2JqpT68AcRPryVpRVzYUubAqasEUwtCDPjX6']}],\n",
       " 'metadata': None,\n",
       " 'operation': 'CREATE',\n",
       " 'outputs': [{'amount': '1',\n",
       "   'condition': {'details': {'public_key': 'B2Rvrz6J2JqpT68AcRPryVpRVzYUubAqasEUwtCDPjX6',\n",
       "     'type': 'ed25519-sha-256'},\n",
       "    'uri': 'ni:///sha-256;hbt48qFfQ-ZnqZ_MukxBGo6XeAL8fhxykyFAQGP5lJU?fpt=ed25519-sha-256&cost=131072'},\n",
       "   'public_keys': ['B2Rvrz6J2JqpT68AcRPryVpRVzYUubAqasEUwtCDPjX6']}],\n",
       " 'version': '2.0'}"
      ]
     },
     "execution_count": 5,
     "metadata": {},
     "output_type": "execute_result"
    }
   ],
   "source": [
    "prepared_creation_tx"
   ]
  },
  {
   "cell_type": "markdown",
   "metadata": {},
   "source": [
    "In order to be fulfilled the CREATE transaction must now be signed with Alice's private key."
   ]
  },
  {
   "cell_type": "code",
   "execution_count": 6,
   "metadata": {
    "collapsed": true
   },
   "outputs": [],
   "source": [
    "fulfilled_creation_tx = bdb.transactions.fulfill(\n",
    "    prepared_creation_tx,\n",
    "    private_keys=alice.private_key\n",
    ")"
   ]
  },
  {
   "cell_type": "markdown",
   "metadata": {},
   "source": [
    "Let's also take a look at what's inside fullfilled transaction ready to be sent to BigchainDB."
   ]
  },
  {
   "cell_type": "code",
   "execution_count": 7,
   "metadata": {},
   "outputs": [
    {
     "data": {
      "text/plain": [
       "{'asset': {'data': {'bicycle': {'color': 'blue',\n",
       "    'manufacture_date': 'June 1, 2016',\n",
       "    'manufacturer': 'schwinn',\n",
       "    'serial_number': 'gfkdfgsfd9878967',\n",
       "    'style': 'mountain'}}},\n",
       " 'id': '152d1710d16dee734081c0de0b2858d550a4c701ad83f04262db697977ded76a',\n",
       " 'inputs': [{'fulfillment': 'pGSAIJTyoxG1ESpR4n6ML4X_0Z2oHwPIQqFzqUQ5zHzrQSuJgUBMNsFuri29zIvmaOFZWR0jXx5KILunFqk9NMD0XpUn8yxHUIrU9utcLlvDkYm0zOcpqwN5IBtsE2EZN8GzISUB',\n",
       "   'fulfills': None,\n",
       "   'owners_before': ['B2Rvrz6J2JqpT68AcRPryVpRVzYUubAqasEUwtCDPjX6']}],\n",
       " 'metadata': None,\n",
       " 'operation': 'CREATE',\n",
       " 'outputs': [{'amount': '1',\n",
       "   'condition': {'details': {'public_key': 'B2Rvrz6J2JqpT68AcRPryVpRVzYUubAqasEUwtCDPjX6',\n",
       "     'type': 'ed25519-sha-256'},\n",
       "    'uri': 'ni:///sha-256;hbt48qFfQ-ZnqZ_MukxBGo6XeAL8fhxykyFAQGP5lJU?fpt=ed25519-sha-256&cost=131072'},\n",
       "   'public_keys': ['B2Rvrz6J2JqpT68AcRPryVpRVzYUubAqasEUwtCDPjX6']}],\n",
       " 'version': '2.0'}"
      ]
     },
     "execution_count": 7,
     "metadata": {},
     "output_type": "execute_result"
    }
   ],
   "source": [
    "fulfilled_creation_tx"
   ]
  },
  {
   "cell_type": "markdown",
   "metadata": {},
   "source": [
    "Next - we send the transaction over to a BigchainDB node in our network."
   ]
  },
  {
   "cell_type": "code",
   "execution_count": 8,
   "metadata": {
    "collapsed": true
   },
   "outputs": [],
   "source": [
    "sent_creation_tx = bdb.transactions.send_commit(fulfilled_creation_tx)"
   ]
  },
  {
   "cell_type": "markdown",
   "metadata": {},
   "source": [
    "We can observe that the response from the node is the same as what was sent."
   ]
  },
  {
   "cell_type": "code",
   "execution_count": 9,
   "metadata": {},
   "outputs": [
    {
     "data": {
      "text/plain": [
       "True"
      ]
     },
     "execution_count": 9,
     "metadata": {},
     "output_type": "execute_result"
    }
   ],
   "source": [
    "sent_creation_tx == fulfilled_creation_tx"
   ]
  },
  {
   "cell_type": "markdown",
   "metadata": {},
   "source": [
    "Let's now check to see if the transaction was included in the block. In order to do this we will look up the transaction by ID from the fulfillment dictionary (shown below). We'll also save this ID so we can transfer Alice's asset later."
   ]
  },
  {
   "cell_type": "code",
   "execution_count": 10,
   "metadata": {},
   "outputs": [
    {
     "data": {
      "text/plain": [
       "'152d1710d16dee734081c0de0b2858d550a4c701ad83f04262db697977ded76a'"
      ]
     },
     "execution_count": 10,
     "metadata": {},
     "output_type": "execute_result"
    }
   ],
   "source": [
    "txid = fulfilled_creation_tx['id']\n",
    "txid"
   ]
  },
  {
   "cell_type": "markdown",
   "metadata": {},
   "source": [
    "NOTE: The block_height here doesn't start at 0 because of previous testing, afterall blockchain is immutable!"
   ]
  },
  {
   "cell_type": "code",
   "execution_count": 11,
   "metadata": {},
   "outputs": [
    {
     "data": {
      "text/plain": [
       "8"
      ]
     },
     "execution_count": 11,
     "metadata": {},
     "output_type": "execute_result"
    }
   ],
   "source": [
    "block_height = bdb.blocks.get(txid=fulfilled_creation_tx['id'])\n",
    "block_height"
   ]
  },
  {
   "cell_type": "markdown",
   "metadata": {},
   "source": [
    "If we want to see the whole block, we can retrieve the block itself (using the block height). Since the blockchain height increases monotonically the height of block can be regarded as its identifier if it was the last block added."
   ]
  },
  {
   "cell_type": "code",
   "execution_count": 12,
   "metadata": {},
   "outputs": [
    {
     "data": {
      "text/plain": [
       "{'height': 8,\n",
       " 'transactions': [{'asset': {'data': {'bicycle': {'color': 'blue',\n",
       "      'manufacture_date': 'June 1, 2016',\n",
       "      'manufacturer': 'schwinn',\n",
       "      'serial_number': 'gfkdfgsfd9878967',\n",
       "      'style': 'mountain'}}},\n",
       "   'id': '152d1710d16dee734081c0de0b2858d550a4c701ad83f04262db697977ded76a',\n",
       "   'inputs': [{'fulfillment': 'pGSAIJTyoxG1ESpR4n6ML4X_0Z2oHwPIQqFzqUQ5zHzrQSuJgUBMNsFuri29zIvmaOFZWR0jXx5KILunFqk9NMD0XpUn8yxHUIrU9utcLlvDkYm0zOcpqwN5IBtsE2EZN8GzISUB',\n",
       "     'fulfills': None,\n",
       "     'owners_before': ['B2Rvrz6J2JqpT68AcRPryVpRVzYUubAqasEUwtCDPjX6']}],\n",
       "   'metadata': None,\n",
       "   'operation': 'CREATE',\n",
       "   'outputs': [{'amount': '1',\n",
       "     'condition': {'details': {'public_key': 'B2Rvrz6J2JqpT68AcRPryVpRVzYUubAqasEUwtCDPjX6',\n",
       "       'type': 'ed25519-sha-256'},\n",
       "      'uri': 'ni:///sha-256;hbt48qFfQ-ZnqZ_MukxBGo6XeAL8fhxykyFAQGP5lJU?fpt=ed25519-sha-256&cost=131072'},\n",
       "     'public_keys': ['B2Rvrz6J2JqpT68AcRPryVpRVzYUubAqasEUwtCDPjX6']}],\n",
       "   'version': '2.0'}]}"
      ]
     },
     "execution_count": 12,
     "metadata": {},
     "output_type": "execute_result"
    }
   ],
   "source": [
    "block = bdb.blocks.retrieve(str(block_height))\n",
    "block"
   ]
  },
  {
   "cell_type": "markdown",
   "metadata": {},
   "source": [
    "Now let's perform another CREATE transaction to see how the blockchain behaves. In this example we will assign the ownership of bike owned by Bob. We'll combine some of the steps here since we've outlined the procedure earlier."
   ]
  },
  {
   "cell_type": "code",
   "execution_count": 13,
   "metadata": {},
   "outputs": [],
   "source": [
    "bicycle2 = {\n",
    "    'data':{\n",
    "        'bicycle':{\n",
    "            'serial_number': 'nbghR32gCQsd1234',\n",
    "            'manufacturer': 'mongoose',\n",
    "            'color': 'black',\n",
    "            'style': 'bmx',\n",
    "            'manufacture_date': 'February 1, 2019'\n",
    "        }\n",
    "    }\n",
    "}\n",
    "\n",
    "prepared_creation_tx1 = bdb.transactions.prepare(\n",
    "    operation='CREATE',\n",
    "    signers=bob.public_key,\n",
    "    asset=bicycle2\n",
    ")\n",
    "\n",
    "fulfilled_creation_tx1 = bdb.transactions.fulfill(\n",
    "    prepared_creation_tx1,\n",
    "    private_keys=bob.private_key\n",
    ")\n",
    "\n",
    "sent_creation_tx1 = bdb.transactions.send_commit(fulfilled_creation_tx1)\n"
   ]
  },
  {
   "cell_type": "markdown",
   "metadata": {},
   "source": [
    "Let's check out the new block height."
   ]
  },
  {
   "cell_type": "code",
   "execution_count": 14,
   "metadata": {},
   "outputs": [
    {
     "data": {
      "text/plain": [
       "10"
      ]
     },
     "execution_count": 14,
     "metadata": {},
     "output_type": "execute_result"
    }
   ],
   "source": [
    "block_height1 = bdb.blocks.get(txid=fulfilled_creation_tx1['id'])\n",
    "block_height1"
   ]
  },
  {
   "cell_type": "markdown",
   "metadata": {},
   "source": [
    "And finally take a peek at the block..."
   ]
  },
  {
   "cell_type": "code",
   "execution_count": 16,
   "metadata": {},
   "outputs": [
    {
     "data": {
      "text/plain": [
       "{'height': 10,\n",
       " 'transactions': [{'asset': {'data': {'bicycle': {'color': 'black',\n",
       "      'manufacture_date': 'February 1, 2019',\n",
       "      'manufacturer': 'mongoose',\n",
       "      'serial_number': 'nbghR32gCQsd1234',\n",
       "      'style': 'bmx'}}},\n",
       "   'id': 'bb6530a2e28d77feb8b737d850dc7a20bd01d069665e3b0a5171126f8299c891',\n",
       "   'inputs': [{'fulfillment': 'pGSAIIXScVjPJ6Lxfy9Z0Iew0_zW0md9zljfMJeNLse7oUKugUC2YsXZrov3QS3B3uPBX0_v25iKa-A3YB7DHPCtSF7Sa-8WsG9mkrFYivegnTOln0_yIaWR4V1oenmJBKX0Zb0D',\n",
       "     'fulfills': None,\n",
       "     'owners_before': ['A1PLkGLZp3Qea3XdzjJ4RDUX8WXhsrfQuCYWGjXFzz1b']}],\n",
       "   'metadata': None,\n",
       "   'operation': 'CREATE',\n",
       "   'outputs': [{'amount': '1',\n",
       "     'condition': {'details': {'public_key': 'A1PLkGLZp3Qea3XdzjJ4RDUX8WXhsrfQuCYWGjXFzz1b',\n",
       "       'type': 'ed25519-sha-256'},\n",
       "      'uri': 'ni:///sha-256;9RCWWPOVZSwgsNYuaVph7I4Kh8PJZfCnCJ6t4ye_KXk?fpt=ed25519-sha-256&cost=131072'},\n",
       "     'public_keys': ['A1PLkGLZp3Qea3XdzjJ4RDUX8WXhsrfQuCYWGjXFzz1b']}],\n",
       "   'version': '2.0'}]}"
      ]
     },
     "execution_count": 16,
     "metadata": {},
     "output_type": "execute_result"
    }
   ],
   "source": [
    "block1 = bdb.blocks.retrieve(str(block_height1))\n",
    "block1"
   ]
  },
  {
   "cell_type": "markdown",
   "metadata": {},
   "source": [
    "You'll find in this output that Bob is indeed the owner of his black Mongoose BMX bicycle based on the presence of his public key in the 'outputs' section of the transtion."
   ]
  },
  {
   "cell_type": "markdown",
   "metadata": {},
   "source": [
    "## Asset Transfer"
   ]
  },
  {
   "cell_type": "markdown",
   "metadata": {},
   "source": [
    "Now let's transfer Alice's bicycle to Bob.\n",
    "\n",
    "In order to do this Alice must consume the transaction in which the bicycle asset was created in order to have the correct information to make the transfer. That is - we need a reference of \"what\" to actually transfer.\n",
    "\n",
    "We can achieve this by looking up the create transaction via the transaction ID we stored earlier (there are other ways to do this by querying the blockchain)."
   ]
  },
  {
   "cell_type": "code",
   "execution_count": 17,
   "metadata": {
    "collapsed": true
   },
   "outputs": [],
   "source": [
    "creation_tx = bdb.transactions.retrieve(txid)"
   ]
  },
  {
   "cell_type": "markdown",
   "metadata": {},
   "source": [
    "Let's take a look inside and verify it's Alice's asset creation from earlier."
   ]
  },
  {
   "cell_type": "code",
   "execution_count": 18,
   "metadata": {},
   "outputs": [
    {
     "data": {
      "text/plain": [
       "{'asset': {'data': {'bicycle': {'color': 'blue',\n",
       "    'manufacture_date': 'June 1, 2016',\n",
       "    'manufacturer': 'schwinn',\n",
       "    'serial_number': 'gfkdfgsfd9878967',\n",
       "    'style': 'mountain'}}},\n",
       " 'id': '152d1710d16dee734081c0de0b2858d550a4c701ad83f04262db697977ded76a',\n",
       " 'inputs': [{'fulfillment': 'pGSAIJTyoxG1ESpR4n6ML4X_0Z2oHwPIQqFzqUQ5zHzrQSuJgUBMNsFuri29zIvmaOFZWR0jXx5KILunFqk9NMD0XpUn8yxHUIrU9utcLlvDkYm0zOcpqwN5IBtsE2EZN8GzISUB',\n",
       "   'fulfills': None,\n",
       "   'owners_before': ['B2Rvrz6J2JqpT68AcRPryVpRVzYUubAqasEUwtCDPjX6']}],\n",
       " 'metadata': None,\n",
       " 'operation': 'CREATE',\n",
       " 'outputs': [{'amount': '1',\n",
       "   'condition': {'details': {'public_key': 'B2Rvrz6J2JqpT68AcRPryVpRVzYUubAqasEUwtCDPjX6',\n",
       "     'type': 'ed25519-sha-256'},\n",
       "    'uri': 'ni:///sha-256;hbt48qFfQ-ZnqZ_MukxBGo6XeAL8fhxykyFAQGP5lJU?fpt=ed25519-sha-256&cost=131072'},\n",
       "   'public_keys': ['B2Rvrz6J2JqpT68AcRPryVpRVzYUubAqasEUwtCDPjX6']}],\n",
       " 'version': '2.0'}"
      ]
     },
     "execution_count": 18,
     "metadata": {},
     "output_type": "execute_result"
    }
   ],
   "source": [
    "creation_tx"
   ]
  },
  {
   "cell_type": "markdown",
   "metadata": {},
   "source": [
    "Sure enough - Alice is the owner as noted in the 'outputs' section of the dictionary above."
   ]
  },
  {
   "cell_type": "markdown",
   "metadata": {},
   "source": [
    "Let's prepare the transfer transaction. We first get the asset ID to determine what it is we're going to transfer (this is the ID from the create transaction). Next we prepare the transfer input dictionary."
   ]
  },
  {
   "cell_type": "code",
   "execution_count": 19,
   "metadata": {
    "collapsed": true
   },
   "outputs": [],
   "source": [
    "asset_id = creation_tx['id']\n",
    "transfer_asset = {\n",
    "    'id': asset_id\n",
    "}"
   ]
  },
  {
   "cell_type": "code",
   "execution_count": 20,
   "metadata": {
    "collapsed": true
   },
   "outputs": [],
   "source": [
    "output_index = 0\n",
    "\n",
    "output = creation_tx['outputs'][output_index]\n",
    "\n",
    "transfer_input = {\n",
    "    'fulfillment': output['condition']['details'],\n",
    "    'fulfills': {\n",
    "         'output_index': output_index,\n",
    "         'transaction_id': creation_tx['id'],\n",
    "     },\n",
    "     'owners_before': output['public_keys'],\n",
    "}\n",
    "\n",
    "prepared_transfer_tx = bdb.transactions.prepare(\n",
    "    operation='TRANSFER',\n",
    "    asset=transfer_asset,\n",
    "    inputs=transfer_input,\n",
    "    recipients=bob.public_key,\n",
    ")"
   ]
  },
  {
   "cell_type": "markdown",
   "metadata": {},
   "source": [
    "Let's take a look at the prepared transfer. You will find the asset ID of Alice's bicycle and you will also notice that the current owner is Alice based on her public key in the 'inputs' and that Bob's public key has been added to the 'outputs', designating him as the desired new owner. Take a look at how this is done by inspecting how Alice's public key is added to transfer_input dictionary and Bob's public is added under recipients in the transactions.prepare method above."
   ]
  },
  {
   "cell_type": "code",
   "execution_count": 21,
   "metadata": {},
   "outputs": [
    {
     "data": {
      "text/plain": [
       "{'asset': {'id': '152d1710d16dee734081c0de0b2858d550a4c701ad83f04262db697977ded76a'},\n",
       " 'id': None,\n",
       " 'inputs': [{'fulfillment': {'public_key': 'B2Rvrz6J2JqpT68AcRPryVpRVzYUubAqasEUwtCDPjX6',\n",
       "    'type': 'ed25519-sha-256'},\n",
       "   'fulfills': {'output_index': 0,\n",
       "    'transaction_id': '152d1710d16dee734081c0de0b2858d550a4c701ad83f04262db697977ded76a'},\n",
       "   'owners_before': ['B2Rvrz6J2JqpT68AcRPryVpRVzYUubAqasEUwtCDPjX6']}],\n",
       " 'metadata': None,\n",
       " 'operation': 'TRANSFER',\n",
       " 'outputs': [{'amount': '1',\n",
       "   'condition': {'details': {'public_key': 'A1PLkGLZp3Qea3XdzjJ4RDUX8WXhsrfQuCYWGjXFzz1b',\n",
       "     'type': 'ed25519-sha-256'},\n",
       "    'uri': 'ni:///sha-256;9RCWWPOVZSwgsNYuaVph7I4Kh8PJZfCnCJ6t4ye_KXk?fpt=ed25519-sha-256&cost=131072'},\n",
       "   'public_keys': ['A1PLkGLZp3Qea3XdzjJ4RDUX8WXhsrfQuCYWGjXFzz1b']}],\n",
       " 'version': '2.0'}"
      ]
     },
     "execution_count": 21,
     "metadata": {},
     "output_type": "execute_result"
    }
   ],
   "source": [
    "prepared_transfer_tx"
   ]
  },
  {
   "cell_type": "markdown",
   "metadata": {},
   "source": [
    "Next let's sign the transaction as Alice using her private key and send it to the connected BigchainDB node.\n",
    "We will then verify that the BigchainDB response is the same as what was sent."
   ]
  },
  {
   "cell_type": "code",
   "execution_count": 22,
   "metadata": {},
   "outputs": [
    {
     "data": {
      "text/plain": [
       "True"
      ]
     },
     "execution_count": 22,
     "metadata": {},
     "output_type": "execute_result"
    }
   ],
   "source": [
    "fulfilled_transfer_tx = bdb.transactions.fulfill(\n",
    "    prepared_transfer_tx,\n",
    "    private_keys=alice.private_key,\n",
    ")\n",
    "\n",
    "sent_transfer_tx = bdb.transactions.send_commit(fulfilled_transfer_tx)\n",
    "sent_transfer_tx == fulfilled_transfer_tx\n"
   ]
  },
  {
   "cell_type": "markdown",
   "metadata": {},
   "source": [
    "Finally - let's examine the current owner and previous owner of the transaction from the response from BigchainDB (which is as we've already tested, the same as our fulfill transfer dictionary)."
   ]
  },
  {
   "cell_type": "code",
   "execution_count": 23,
   "metadata": {},
   "outputs": [
    {
     "name": "stdout",
     "output_type": "stream",
     "text": [
      "Is Bob the owner? True\n",
      "Was Alice the previous owner? True\n"
     ]
    }
   ],
   "source": [
    "print(\"Is Bob the owner?\",\n",
    "    sent_transfer_tx['outputs'][0]['public_keys'][0] == bob.public_key)\n",
    "\n",
    "print(\"Was Alice the previous owner?\",\n",
    "    fulfilled_transfer_tx['inputs'][0]['owners_before'][0] == alice.public_key)"
   ]
  },
  {
   "cell_type": "markdown",
   "metadata": {},
   "source": [
    "## Double Spends"
   ]
  },
  {
   "cell_type": "markdown",
   "metadata": {},
   "source": [
    "One of the key benefits of blockchain technology and BigchainDB is the prevention of double spending - or transfering the same digital asset two or more times.\n",
    "\n",
    "Let's create another another transfer transaction attempting to have Alice re-send the bike we just transferred to Bob back to her \"secret\" account.\n",
    "\n",
    "Let's create Alice's \"secret\" account first."
   ]
  },
  {
   "cell_type": "code",
   "execution_count": 26,
   "metadata": {
    "collapsed": true
   },
   "outputs": [],
   "source": [
    "alice_secret_stash = generate_keypair()"
   ]
  },
  {
   "cell_type": "markdown",
   "metadata": {},
   "source": [
    "Next let's create another transfer transaction with the same input (the bike we transferred to Bob)."
   ]
  },
  {
   "cell_type": "code",
   "execution_count": 27,
   "metadata": {},
   "outputs": [],
   "source": [
    "tx_transfer_2 = bdb.transactions.prepare(\n",
    "    operation='TRANSFER',\n",
    "    inputs=transfer_input,\n",
    "    asset=transfer_asset,\n",
    "    recipients=alice_secret_stash.public_key,\n",
    ")\n",
    "\n",
    "fulfilled_tx_transfer_2 = bdb.transactions.fulfill(\n",
    "    tx_transfer_2,\n",
    "    private_keys=alice.private_key,\n",
    ")\n"
   ]
  },
  {
   "cell_type": "markdown",
   "metadata": {},
   "source": [
    "Now let's try and send our transfer transaction to our BigchainDB node (after importing the exception library so that we get a friendly exception)."
   ]
  },
  {
   "cell_type": "code",
   "execution_count": 28,
   "metadata": {},
   "outputs": [
    {
     "name": "stdout",
     "output_type": "stream",
     "text": [
      "{'message': 'Invalid transaction (DoubleSpend): input `152d1710d16dee734081c0de0b2858d550a4c701ad83f04262db697977ded76a` was already spent', 'status': 400}\n"
     ]
    }
   ],
   "source": [
    "from bigchaindb_driver.exceptions import BigchaindbException\n",
    "try:\n",
    "    bdb.transactions.send_commit(fulfilled_tx_transfer_2)\n",
    "except BigchaindbException as e:\n",
    "    print(e.info)"
   ]
  },
  {
   "cell_type": "markdown",
   "metadata": {},
   "source": [
    "You'll see that this transfer was not allowed as the bike already belongs to Bob."
   ]
  },
  {
   "cell_type": "markdown",
   "metadata": {},
   "source": [
    "## Querying the Blockchain for Assets"
   ]
  },
  {
   "cell_type": "markdown",
   "metadata": {},
   "source": [
    "As another demonstration we will show now how the blockchain can be queried via string search. Let's look up Alice's blue bike and Bob's black bike. You'll find multiple entries based on the series of testing we've done for this project."
   ]
  },
  {
   "cell_type": "code",
   "execution_count": 25,
   "metadata": {},
   "outputs": [
    {
     "data": {
      "text/plain": [
       "[{'data': {'bicycle': {'color': 'blue',\n",
       "    'manufacture_date': 'June 1, 2016',\n",
       "    'manufacturer': 'schwinn',\n",
       "    'serial_number': 'gfkdfgsfd9878967',\n",
       "    'style': 'mountain'}},\n",
       "  'id': 'bcda0cac29144845324a108f3061c4fb0346108eb0ed835f1112eb85b7c762c4'},\n",
       " {'data': {'bicycle': {'color': 'blue',\n",
       "    'manufacture_date': 'June 1, 2016',\n",
       "    'manufacturer': 'schwinn',\n",
       "    'serial_number': 'gfkdfgsfd9878967',\n",
       "    'style': 'mountain'}},\n",
       "  'id': '152d1710d16dee734081c0de0b2858d550a4c701ad83f04262db697977ded76a'}]"
      ]
     },
     "execution_count": 25,
     "metadata": {},
     "output_type": "execute_result"
    }
   ],
   "source": [
    "bdb.assets.get(search='blue')"
   ]
  },
  {
   "cell_type": "code",
   "execution_count": 24,
   "metadata": {},
   "outputs": [
    {
     "data": {
      "text/plain": [
       "[{'data': {'bicycle': {'color': 'black',\n",
       "    'manufacture_date': 'February 1, 2019',\n",
       "    'manufacturer': 'mongoose',\n",
       "    'serial_number': 'nbghR32gCQsd1234',\n",
       "    'style': 'bmx'}},\n",
       "  'id': '71052a486dfe10ccde3461dccc0748d9cf18a6c5c884106dc720f78e5807ce49'},\n",
       " {'data': {'bicycle': {'color': 'black',\n",
       "    'manufacture_date': 'February 1, 2019',\n",
       "    'manufacturer': 'mongoose',\n",
       "    'serial_number': 'nbghR32gCQsd1234',\n",
       "    'style': 'bmx'}},\n",
       "  'id': 'bb6530a2e28d77feb8b737d850dc7a20bd01d069665e3b0a5171126f8299c891'}]"
      ]
     },
     "execution_count": 24,
     "metadata": {},
     "output_type": "execute_result"
    }
   ],
   "source": [
    "bdb.assets.get(search='black')"
   ]
  }
 ],
 "metadata": {
  "kernelspec": {
   "display_name": "Python 3",
   "language": "python",
   "name": "python3"
  },
  "language_info": {
   "codemirror_mode": {
    "name": "ipython",
    "version": 3
   },
   "file_extension": ".py",
   "mimetype": "text/x-python",
   "name": "python",
   "nbconvert_exporter": "python",
   "pygments_lexer": "ipython3",
   "version": "3.6.1"
  }
 },
 "nbformat": 4,
 "nbformat_minor": 2
}
